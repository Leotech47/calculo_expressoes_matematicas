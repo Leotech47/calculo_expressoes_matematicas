{
  "nbformat": 4,
  "nbformat_minor": 0,
  "metadata": {
    "colab": {
      "provenance": [],
      "authorship_tag": "ABX9TyMoyWNIMzLziJxQ88iOL1tj",
      "include_colab_link": true
    },
    "kernelspec": {
      "name": "python3",
      "display_name": "Python 3"
    },
    "language_info": {
      "name": "python"
    }
  },
  "cells": [
    {
      "cell_type": "markdown",
      "metadata": {
        "id": "view-in-github",
        "colab_type": "text"
      },
      "source": [
        "<a href=\"https://colab.research.google.com/github/leotech-projects/calculo_expressoes_matematicas/blob/main/calculadora.ipynb\" target=\"_parent\"><img src=\"https://colab.research.google.com/assets/colab-badge.svg\" alt=\"Open In Colab\"/></a>"
      ]
    },
    {
      "cell_type": "markdown",
      "source": [
        "#Calculadora Avançada Interativa em Python\n",
        "Esta é uma versão avançada da mini-calculadora interativa em Python. Ela permite que o usuário digite expressões matemáticas completas, como 5 + 3 * 2, e calcula o resultado respeitando a ordem de precedência das operações.\n",
        "\n"
      ],
      "metadata": {
        "id": "LwbK0uI4crSX"
      }
    },
    {
      "cell_type": "code",
      "execution_count": 2,
      "metadata": {
        "colab": {
          "base_uri": "https://localhost:8080/"
        },
        "id": "gcJ26KWfb6lY",
        "outputId": "dc3ef245-e550-4ff6-bb89-4d3dfd846d54"
      },
      "outputs": [
        {
          "output_type": "stream",
          "name": "stdout",
          "text": [
            "\n",
            "Digite uma expressão matemática completa (ex: 5 + 3 * 2)\n",
            "Operações suportadas: +, -, *, /, ** (potência), % (módulo)\n",
            "Para encerrar, digite 'sair'.\n",
            "Digite a expressão: sair\n",
            "Encerrando a calculadora avançada. Até mais!\n"
          ]
        }
      ],
      "source": [
        "while True:\n",
        "    print(\"\\nDigite uma expressão matemática completa (ex: 5 + 3 * 2)\")\n",
        "    print(\"Operações suportadas: +, -, *, /, ** (potência), % (módulo)\")\n",
        "    print(\"Para encerrar, digite 'sair'.\")\n",
        "\n",
        "    expressao = input(\"Digite a expressão: \").lower()\n",
        "\n",
        "    if expressao == \"sair\":\n",
        "        print(\"Encerrando a calculadora avançada. Até mais!\")\n",
        "        break\n",
        "\n",
        "    try:\n",
        "        # Avalia a expressão digitada pelo usuário\n",
        "        resultado = eval(expressao, {\"__builtins__\": None}, {})\n",
        "        print(\"Resultado:\", resultado)\n",
        "    except ZeroDivisionError:\n",
        "        print(\"Erro: divisão por zero\")\n",
        "    except Exception as e:\n",
        "        print(\"Erro: expressão inválida\")\n",
        ""
      ]
    }
  ]
}